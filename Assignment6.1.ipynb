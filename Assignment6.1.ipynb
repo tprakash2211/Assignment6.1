{
 "cells": [
  {
   "cell_type": "code",
   "execution_count": 1,
   "metadata": {},
   "outputs": [
    {
     "name": "stdout",
     "output_type": "stream",
     "text": [
      "834.7987115999215\n"
     ]
    }
   ],
   "source": [
    "#Problem Statement 1: \n",
    "# You survey households in your area to find the average rent they are paying. Find the standard deviation from the following data:  $1550, $1700, $900, $850, $1000, $950\n",
    "\n",
    "import math\n",
    "list = [1550, 1700, 900, 850, 1000, 950]\n",
    "mean = sum (list) / sum (1 for i in list)\n",
    "sd = 0\n",
    "for i in list:\n",
    "    var = (i- mean) **2 / (sum (1 for i in list)-1)\n",
    "    sd += math.sqrt(var)\n",
    "print (sd)\n",
    "\n"
   ]
  },
  {
   "cell_type": "code",
   "execution_count": null,
   "metadata": {
    "collapsed": true
   },
   "outputs": [],
   "source": []
  }
 ],
 "metadata": {
  "kernelspec": {
   "display_name": "Python 3",
   "language": "python",
   "name": "python3"
  },
  "language_info": {
   "codemirror_mode": {
    "name": "ipython",
    "version": 3
   },
   "file_extension": ".py",
   "mimetype": "text/x-python",
   "name": "python",
   "nbconvert_exporter": "python",
   "pygments_lexer": "ipython3",
   "version": "3.6.3"
  }
 },
 "nbformat": 4,
 "nbformat_minor": 2
}
